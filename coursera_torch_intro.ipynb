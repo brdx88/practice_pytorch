{
 "cells": [
  {
   "cell_type": "code",
   "execution_count": 1,
   "metadata": {
    "ExecuteTime": {
     "end_time": "2021-05-14T03:19:52.008596Z",
     "start_time": "2021-05-14T03:19:47.509332Z"
    }
   },
   "outputs": [],
   "source": [
    "import torch"
   ]
  },
  {
   "cell_type": "markdown",
   "metadata": {},
   "source": [
    "# Torch 1d"
   ]
  },
  {
   "cell_type": "markdown",
   "metadata": {},
   "source": [
    "**Data Type**\n",
    "1. 32-bit floating point\n",
    "2. 64-bit floating point\n",
    "3. 16-bit floating point\n",
    "4. 8-bit integer (unsigned)\n",
    "5. 8-bit integer (signed)\n",
    "6. 16-bit integer (signed)\n",
    "7. 32-bit integer (signed)\n",
    "8. 64-bit integer (signed)\n",
    "\n",
    "**dtype**\n",
    "1. torch.float32 or torch.float\n",
    "2. torch.float64 or torch.double\n",
    "3. torch.float16 or torch.half\n",
    "4. torch.uint8\n",
    "5. torch.int8\n",
    "6. torch.int16 or torch.short\n",
    "7. torch.int32 or torch.int\n",
    "8. torch.int64 or torch.long\n",
    "\n",
    "**Tensor types**\n",
    "1. torch.\"asterisk\".FloatTensor\n",
    "2. torch.\"asterisk\".DoubleTensor\n",
    "3. torch.\"asterisk\".HalfTensor\n",
    "4. torch.\"asterisk\".ByteTensor\n",
    "5. torch.\"asterisk\".CharTensor\n",
    "6. torch.\"asterisk\".ShortTensor\n",
    "7. torch.\"asterisk\".IntTensor\n",
    "8. torch.\"asterisk\".LongTensor"
   ]
  },
  {
   "cell_type": "markdown",
   "metadata": {},
   "source": [
    "## Types"
   ]
  },
  {
   "cell_type": "code",
   "execution_count": 2,
   "metadata": {
    "ExecuteTime": {
     "end_time": "2021-05-14T03:26:30.999529Z",
     "start_time": "2021-05-14T03:26:30.979602Z"
    }
   },
   "outputs": [],
   "source": [
    "# Integer Tensor\n",
    "\n",
    "a = torch.tensor([7,4,3,2,6])"
   ]
  },
  {
   "cell_type": "code",
   "execution_count": 3,
   "metadata": {
    "ExecuteTime": {
     "end_time": "2021-05-14T03:26:37.547232Z",
     "start_time": "2021-05-14T03:26:37.531652Z"
    }
   },
   "outputs": [
    {
     "data": {
      "text/plain": [
       "tensor(7)"
      ]
     },
     "execution_count": 3,
     "metadata": {},
     "output_type": "execute_result"
    }
   ],
   "source": [
    "a[0]"
   ]
  },
  {
   "cell_type": "code",
   "execution_count": 4,
   "metadata": {
    "ExecuteTime": {
     "end_time": "2021-05-14T03:26:40.598547Z",
     "start_time": "2021-05-14T03:26:40.577189Z"
    }
   },
   "outputs": [
    {
     "data": {
      "text/plain": [
       "tensor(4)"
      ]
     },
     "execution_count": 4,
     "metadata": {},
     "output_type": "execute_result"
    }
   ],
   "source": [
    "a[1]"
   ]
  },
  {
   "cell_type": "code",
   "execution_count": 5,
   "metadata": {
    "ExecuteTime": {
     "end_time": "2021-05-14T03:26:44.888110Z",
     "start_time": "2021-05-14T03:26:44.871605Z"
    }
   },
   "outputs": [
    {
     "data": {
      "text/plain": [
       "torch.int64"
      ]
     },
     "execution_count": 5,
     "metadata": {},
     "output_type": "execute_result"
    }
   ],
   "source": [
    "a.dtype"
   ]
  },
  {
   "cell_type": "code",
   "execution_count": 6,
   "metadata": {
    "ExecuteTime": {
     "end_time": "2021-05-14T03:26:51.563461Z",
     "start_time": "2021-05-14T03:26:51.542422Z"
    }
   },
   "outputs": [
    {
     "data": {
      "text/plain": [
       "'torch.LongTensor'"
      ]
     },
     "execution_count": 6,
     "metadata": {},
     "output_type": "execute_result"
    }
   ],
   "source": [
    "a.type()"
   ]
  },
  {
   "cell_type": "code",
   "execution_count": 7,
   "metadata": {
    "ExecuteTime": {
     "end_time": "2021-05-14T03:28:37.094431Z",
     "start_time": "2021-05-14T03:28:37.087743Z"
    }
   },
   "outputs": [],
   "source": [
    "# Float Tensor\n",
    "a = torch.tensor([0.0, 1.0, 2.0, 3.0, 4.0])"
   ]
  },
  {
   "cell_type": "code",
   "execution_count": 8,
   "metadata": {
    "ExecuteTime": {
     "end_time": "2021-05-14T03:28:40.240847Z",
     "start_time": "2021-05-14T03:28:40.229702Z"
    }
   },
   "outputs": [
    {
     "data": {
      "text/plain": [
       "torch.float32"
      ]
     },
     "execution_count": 8,
     "metadata": {},
     "output_type": "execute_result"
    }
   ],
   "source": [
    "a.dtype"
   ]
  },
  {
   "cell_type": "code",
   "execution_count": 9,
   "metadata": {
    "ExecuteTime": {
     "end_time": "2021-05-14T03:28:46.742537Z",
     "start_time": "2021-05-14T03:28:46.728140Z"
    }
   },
   "outputs": [
    {
     "data": {
      "text/plain": [
       "'torch.FloatTensor'"
      ]
     },
     "execution_count": 9,
     "metadata": {},
     "output_type": "execute_result"
    }
   ],
   "source": [
    "a.type()"
   ]
  },
  {
   "cell_type": "code",
   "execution_count": 10,
   "metadata": {
    "ExecuteTime": {
     "end_time": "2021-05-14T03:29:45.927271Z",
     "start_time": "2021-05-14T03:29:45.918227Z"
    }
   },
   "outputs": [
    {
     "name": "stderr",
     "output_type": "stream",
     "text": [
      "<ipython-input-10-1559a1cbb144>:2: DeprecationWarning: an integer is required (got type float).  Implicit conversion to integers using __int__ is deprecated, and may be removed in a future version of Python.\n",
      "  a = torch.tensor([0.0, 1.0, 2.0, 3.0, 4.0], dtype = torch.int32)\n"
     ]
    }
   ],
   "source": [
    "# we also can specify the dtype\n",
    "\n",
    "a = torch.tensor([0.0, 1.0, 2.0, 3.0, 4.0], dtype = torch.int32)"
   ]
  },
  {
   "cell_type": "code",
   "execution_count": 11,
   "metadata": {
    "ExecuteTime": {
     "end_time": "2021-05-14T03:30:02.939060Z",
     "start_time": "2021-05-14T03:30:02.921190Z"
    }
   },
   "outputs": [
    {
     "data": {
      "text/plain": [
       "torch.int32"
      ]
     },
     "execution_count": 11,
     "metadata": {},
     "output_type": "execute_result"
    }
   ],
   "source": [
    "a.dtype"
   ]
  },
  {
   "cell_type": "code",
   "execution_count": 12,
   "metadata": {
    "ExecuteTime": {
     "end_time": "2021-05-14T03:30:04.675361Z",
     "start_time": "2021-05-14T03:30:04.654264Z"
    }
   },
   "outputs": [
    {
     "data": {
      "text/plain": [
       "tensor([0, 1, 2, 3, 4], dtype=torch.int32)"
      ]
     },
     "execution_count": 12,
     "metadata": {},
     "output_type": "execute_result"
    }
   ],
   "source": [
    "a"
   ]
  },
  {
   "cell_type": "code",
   "execution_count": 13,
   "metadata": {
    "ExecuteTime": {
     "end_time": "2021-05-14T03:31:23.954704Z",
     "start_time": "2021-05-14T03:31:23.947442Z"
    }
   },
   "outputs": [],
   "source": [
    "# or we can explicitly change the integer with FloatTensor method\n",
    "\n",
    "a = torch.FloatTensor([0,1,2,3,4])"
   ]
  },
  {
   "cell_type": "code",
   "execution_count": 14,
   "metadata": {
    "ExecuteTime": {
     "end_time": "2021-05-14T03:31:26.798205Z",
     "start_time": "2021-05-14T03:31:26.782842Z"
    }
   },
   "outputs": [
    {
     "data": {
      "text/plain": [
       "'torch.FloatTensor'"
      ]
     },
     "execution_count": 14,
     "metadata": {},
     "output_type": "execute_result"
    }
   ],
   "source": [
    "a.type()"
   ]
  },
  {
   "cell_type": "code",
   "execution_count": 15,
   "metadata": {
    "ExecuteTime": {
     "end_time": "2021-05-14T03:31:36.478513Z",
     "start_time": "2021-05-14T03:31:36.457259Z"
    }
   },
   "outputs": [
    {
     "data": {
      "text/plain": [
       "torch.float32"
      ]
     },
     "execution_count": 15,
     "metadata": {},
     "output_type": "execute_result"
    }
   ],
   "source": [
    "a.dtype"
   ]
  },
  {
   "cell_type": "code",
   "execution_count": 16,
   "metadata": {
    "ExecuteTime": {
     "end_time": "2021-05-14T03:31:39.874289Z",
     "start_time": "2021-05-14T03:31:39.859131Z"
    }
   },
   "outputs": [
    {
     "data": {
      "text/plain": [
       "tensor([0., 1., 2., 3., 4.])"
      ]
     },
     "execution_count": 16,
     "metadata": {},
     "output_type": "execute_result"
    }
   ],
   "source": [
    "a"
   ]
  },
  {
   "cell_type": "code",
   "execution_count": 17,
   "metadata": {
    "ExecuteTime": {
     "end_time": "2021-05-14T03:33:05.677281Z",
     "start_time": "2021-05-14T03:33:05.671369Z"
    }
   },
   "outputs": [],
   "source": [
    "# we can convert the type of the tensor to float using the \"type\" method\n",
    "\n",
    "a = torch.tensor([0,1,2,3,4])"
   ]
  },
  {
   "cell_type": "code",
   "execution_count": 18,
   "metadata": {
    "ExecuteTime": {
     "end_time": "2021-05-14T03:33:07.545823Z",
     "start_time": "2021-05-14T03:33:07.527822Z"
    }
   },
   "outputs": [
    {
     "data": {
      "text/plain": [
       "'torch.LongTensor'"
      ]
     },
     "execution_count": 18,
     "metadata": {},
     "output_type": "execute_result"
    }
   ],
   "source": [
    "a.type()"
   ]
  },
  {
   "cell_type": "code",
   "execution_count": 19,
   "metadata": {
    "ExecuteTime": {
     "end_time": "2021-05-14T03:33:25.954132Z",
     "start_time": "2021-05-14T03:33:25.947589Z"
    }
   },
   "outputs": [],
   "source": [
    "a = a.type(torch.FloatTensor)"
   ]
  },
  {
   "cell_type": "code",
   "execution_count": 20,
   "metadata": {
    "ExecuteTime": {
     "end_time": "2021-05-14T03:33:28.781397Z",
     "start_time": "2021-05-14T03:33:28.762027Z"
    }
   },
   "outputs": [
    {
     "data": {
      "text/plain": [
       "'torch.FloatTensor'"
      ]
     },
     "execution_count": 20,
     "metadata": {},
     "output_type": "execute_result"
    }
   ],
   "source": [
    "a.type()"
   ]
  },
  {
   "cell_type": "code",
   "execution_count": 21,
   "metadata": {
    "ExecuteTime": {
     "end_time": "2021-05-14T03:33:31.357769Z",
     "start_time": "2021-05-14T03:33:31.337302Z"
    }
   },
   "outputs": [
    {
     "data": {
      "text/plain": [
       "tensor([0., 1., 2., 3., 4.])"
      ]
     },
     "execution_count": 21,
     "metadata": {},
     "output_type": "execute_result"
    }
   ],
   "source": [
    "a"
   ]
  },
  {
   "cell_type": "markdown",
   "metadata": {},
   "source": [
    "## Size and Dimension"
   ]
  },
  {
   "cell_type": "code",
   "execution_count": 22,
   "metadata": {
    "ExecuteTime": {
     "end_time": "2021-05-14T03:35:30.374715Z",
     "start_time": "2021-05-14T03:35:30.358785Z"
    }
   },
   "outputs": [],
   "source": [
    "a = torch.Tensor([0,1,2,3,4])"
   ]
  },
  {
   "cell_type": "code",
   "execution_count": 23,
   "metadata": {
    "ExecuteTime": {
     "end_time": "2021-05-14T03:35:32.722936Z",
     "start_time": "2021-05-14T03:35:32.704572Z"
    }
   },
   "outputs": [
    {
     "data": {
      "text/plain": [
       "torch.Size([5])"
      ]
     },
     "execution_count": 23,
     "metadata": {},
     "output_type": "execute_result"
    }
   ],
   "source": [
    "a.size()"
   ]
  },
  {
   "cell_type": "code",
   "execution_count": 24,
   "metadata": {
    "ExecuteTime": {
     "end_time": "2021-05-14T03:35:38.170502Z",
     "start_time": "2021-05-14T03:35:38.160568Z"
    }
   },
   "outputs": [
    {
     "data": {
      "text/plain": [
       "1"
      ]
     },
     "execution_count": 24,
     "metadata": {},
     "output_type": "execute_result"
    }
   ],
   "source": [
    "a.ndimension()\n",
    "# so here is a vector"
   ]
  },
  {
   "cell_type": "code",
   "execution_count": 25,
   "metadata": {
    "ExecuteTime": {
     "end_time": "2021-05-14T03:35:43.114435Z",
     "start_time": "2021-05-14T03:35:43.091333Z"
    }
   },
   "outputs": [
    {
     "data": {
      "text/plain": [
       "torch.Size([5])"
      ]
     },
     "execution_count": 25,
     "metadata": {},
     "output_type": "execute_result"
    }
   ],
   "source": [
    "a.shape"
   ]
  },
  {
   "cell_type": "code",
   "execution_count": 26,
   "metadata": {
    "ExecuteTime": {
     "end_time": "2021-05-14T03:37:34.558723Z",
     "start_time": "2021-05-14T03:37:34.535799Z"
    }
   },
   "outputs": [],
   "source": [
    "# convert 1-d tensor to 2-d tensor\n",
    "\n",
    "a = torch.Tensor([1,2,3,4,5])"
   ]
  },
  {
   "cell_type": "code",
   "execution_count": 27,
   "metadata": {
    "ExecuteTime": {
     "end_time": "2021-05-14T03:37:41.051146Z",
     "start_time": "2021-05-14T03:37:41.043219Z"
    }
   },
   "outputs": [],
   "source": [
    "a_col = a.view(5,1)\n",
    "# view(rows,columns)"
   ]
  },
  {
   "cell_type": "code",
   "execution_count": 28,
   "metadata": {
    "ExecuteTime": {
     "end_time": "2021-05-14T03:37:46.100170Z",
     "start_time": "2021-05-14T03:37:46.084883Z"
    }
   },
   "outputs": [
    {
     "data": {
      "text/plain": [
       "tensor([[1.],\n",
       "        [2.],\n",
       "        [3.],\n",
       "        [4.],\n",
       "        [5.]])"
      ]
     },
     "execution_count": 28,
     "metadata": {},
     "output_type": "execute_result"
    }
   ],
   "source": [
    "a_col"
   ]
  },
  {
   "cell_type": "code",
   "execution_count": 31,
   "metadata": {
    "ExecuteTime": {
     "end_time": "2021-05-14T03:38:36.903759Z",
     "start_time": "2021-05-14T03:38:36.888682Z"
    }
   },
   "outputs": [
    {
     "data": {
      "text/plain": [
       "torch.Size([5, 1])"
      ]
     },
     "execution_count": 31,
     "metadata": {},
     "output_type": "execute_result"
    }
   ],
   "source": [
    "a_col.size()"
   ]
  },
  {
   "cell_type": "code",
   "execution_count": 32,
   "metadata": {
    "ExecuteTime": {
     "end_time": "2021-05-14T03:38:40.156045Z",
     "start_time": "2021-05-14T03:38:40.138328Z"
    }
   },
   "outputs": [
    {
     "data": {
      "text/plain": [
       "2"
      ]
     },
     "execution_count": 32,
     "metadata": {},
     "output_type": "execute_result"
    }
   ],
   "source": [
    "a_col.ndimension()"
   ]
  },
  {
   "cell_type": "code",
   "execution_count": 33,
   "metadata": {
    "ExecuteTime": {
     "end_time": "2021-05-14T03:39:14.751030Z",
     "start_time": "2021-05-14T03:39:14.736610Z"
    }
   },
   "outputs": [],
   "source": [
    "# OR this way\n",
    "\n",
    "a_cola = a.view(-1,1)"
   ]
  },
  {
   "cell_type": "code",
   "execution_count": 34,
   "metadata": {
    "ExecuteTime": {
     "end_time": "2021-05-14T03:39:17.183074Z",
     "start_time": "2021-05-14T03:39:17.162889Z"
    }
   },
   "outputs": [
    {
     "data": {
      "text/plain": [
       "tensor([[1.],\n",
       "        [2.],\n",
       "        [3.],\n",
       "        [4.],\n",
       "        [5.]])"
      ]
     },
     "execution_count": 34,
     "metadata": {},
     "output_type": "execute_result"
    }
   ],
   "source": [
    "a_cola"
   ]
  },
  {
   "cell_type": "code",
   "execution_count": 35,
   "metadata": {
    "ExecuteTime": {
     "end_time": "2021-05-14T03:39:46.248662Z",
     "start_time": "2021-05-14T03:39:46.233389Z"
    }
   },
   "outputs": [
    {
     "data": {
      "text/plain": [
       "torch.Size([5, 1])"
      ]
     },
     "execution_count": 35,
     "metadata": {},
     "output_type": "execute_result"
    }
   ],
   "source": [
    "a_cola.size()"
   ]
  },
  {
   "cell_type": "code",
   "execution_count": 36,
   "metadata": {
    "ExecuteTime": {
     "end_time": "2021-05-14T03:39:52.415171Z",
     "start_time": "2021-05-14T03:39:52.394727Z"
    }
   },
   "outputs": [
    {
     "data": {
      "text/plain": [
       "2"
      ]
     },
     "execution_count": 36,
     "metadata": {},
     "output_type": "execute_result"
    }
   ],
   "source": [
    "a_cola.ndimension()"
   ]
  },
  {
   "cell_type": "code",
   "execution_count": 43,
   "metadata": {
    "ExecuteTime": {
     "end_time": "2021-05-14T03:47:14.889788Z",
     "start_time": "2021-05-14T03:47:14.869557Z"
    }
   },
   "outputs": [],
   "source": [
    "# let's say 2-d array but different position\n",
    "\n",
    "a_cola = a.view(1,-1)"
   ]
  },
  {
   "cell_type": "code",
   "execution_count": 44,
   "metadata": {
    "ExecuteTime": {
     "end_time": "2021-05-14T03:47:15.133081Z",
     "start_time": "2021-05-14T03:47:15.125067Z"
    }
   },
   "outputs": [
    {
     "data": {
      "text/plain": [
       "torch.Size([1, 5])"
      ]
     },
     "execution_count": 44,
     "metadata": {},
     "output_type": "execute_result"
    }
   ],
   "source": [
    "a_cola.size()"
   ]
  },
  {
   "cell_type": "code",
   "execution_count": 45,
   "metadata": {
    "ExecuteTime": {
     "end_time": "2021-05-14T03:47:15.720844Z",
     "start_time": "2021-05-14T03:47:15.710887Z"
    }
   },
   "outputs": [
    {
     "data": {
      "text/plain": [
       "tensor([[1., 2., 3., 4., 5.]])"
      ]
     },
     "execution_count": 45,
     "metadata": {},
     "output_type": "execute_result"
    }
   ],
   "source": [
    "a_cola"
   ]
  },
  {
   "cell_type": "code",
   "execution_count": 48,
   "metadata": {
    "ExecuteTime": {
     "end_time": "2021-05-14T03:48:52.077177Z",
     "start_time": "2021-05-14T03:48:52.069136Z"
    }
   },
   "outputs": [],
   "source": [
    "# turn it back to 1-d array based on the number of elements\n",
    "\n",
    "a_cola = a_cola.view(5)"
   ]
  },
  {
   "cell_type": "code",
   "execution_count": 49,
   "metadata": {
    "ExecuteTime": {
     "end_time": "2021-05-14T03:48:55.058172Z",
     "start_time": "2021-05-14T03:48:55.049982Z"
    }
   },
   "outputs": [
    {
     "data": {
      "text/plain": [
       "tensor([1., 2., 3., 4., 5.])"
      ]
     },
     "execution_count": 49,
     "metadata": {},
     "output_type": "execute_result"
    }
   ],
   "source": [
    "a_cola"
   ]
  },
  {
   "cell_type": "markdown",
   "metadata": {},
   "source": [
    "## Torch, Numpy, Pandas, Python List"
   ]
  },
  {
   "cell_type": "code",
   "execution_count": 57,
   "metadata": {
    "ExecuteTime": {
     "end_time": "2021-05-14T03:53:53.511951Z",
     "start_time": "2021-05-14T03:53:53.490806Z"
    }
   },
   "outputs": [],
   "source": [
    "import numpy as np"
   ]
  },
  {
   "cell_type": "code",
   "execution_count": 58,
   "metadata": {
    "ExecuteTime": {
     "end_time": "2021-05-14T03:53:54.846865Z",
     "start_time": "2021-05-14T03:53:54.813598Z"
    }
   },
   "outputs": [],
   "source": [
    "numpy_array = np.array([0.0, 1.0, 2.0, 3.0, 4.0])"
   ]
  },
  {
   "cell_type": "code",
   "execution_count": 59,
   "metadata": {
    "ExecuteTime": {
     "end_time": "2021-05-14T03:53:55.094736Z",
     "start_time": "2021-05-14T03:53:55.078716Z"
    }
   },
   "outputs": [
    {
     "data": {
      "text/plain": [
       "array([0., 1., 2., 3., 4.])"
      ]
     },
     "execution_count": 59,
     "metadata": {},
     "output_type": "execute_result"
    }
   ],
   "source": [
    "numpy_array"
   ]
  },
  {
   "cell_type": "code",
   "execution_count": 60,
   "metadata": {
    "ExecuteTime": {
     "end_time": "2021-05-14T03:53:55.855869Z",
     "start_time": "2021-05-14T03:53:55.847867Z"
    }
   },
   "outputs": [],
   "source": [
    "torch_tensor = torch.from_numpy(numpy_array)"
   ]
  },
  {
   "cell_type": "code",
   "execution_count": 61,
   "metadata": {
    "ExecuteTime": {
     "end_time": "2021-05-14T03:53:56.296567Z",
     "start_time": "2021-05-14T03:53:56.259951Z"
    }
   },
   "outputs": [
    {
     "data": {
      "text/plain": [
       "tensor([0., 1., 2., 3., 4.], dtype=torch.float64)"
      ]
     },
     "execution_count": 61,
     "metadata": {},
     "output_type": "execute_result"
    }
   ],
   "source": [
    "torch_tensor"
   ]
  },
  {
   "cell_type": "code",
   "execution_count": 62,
   "metadata": {
    "ExecuteTime": {
     "end_time": "2021-05-14T03:53:56.640265Z",
     "start_time": "2021-05-14T03:53:56.624050Z"
    }
   },
   "outputs": [],
   "source": [
    "back_to_numpy = torch_tensor.numpy()"
   ]
  },
  {
   "cell_type": "code",
   "execution_count": 63,
   "metadata": {
    "ExecuteTime": {
     "end_time": "2021-05-14T03:53:57.652500Z",
     "start_time": "2021-05-14T03:53:57.638000Z"
    }
   },
   "outputs": [
    {
     "data": {
      "text/plain": [
       "array([0., 1., 2., 3., 4.])"
      ]
     },
     "execution_count": 63,
     "metadata": {},
     "output_type": "execute_result"
    }
   ],
   "source": [
    "back_to_numpy"
   ]
  },
  {
   "cell_type": "code",
   "execution_count": 64,
   "metadata": {
    "ExecuteTime": {
     "end_time": "2021-05-14T03:54:00.358494Z",
     "start_time": "2021-05-14T03:53:58.292412Z"
    }
   },
   "outputs": [],
   "source": [
    "# OR from Pandas Series\n",
    "\n",
    "import pandas as pd"
   ]
  },
  {
   "cell_type": "code",
   "execution_count": 65,
   "metadata": {
    "ExecuteTime": {
     "end_time": "2021-05-14T03:54:15.998976Z",
     "start_time": "2021-05-14T03:54:15.977776Z"
    }
   },
   "outputs": [],
   "source": [
    "pandas_series = pd.Series([0.1, 2, 0.3, 10.1])"
   ]
  },
  {
   "cell_type": "code",
   "execution_count": 67,
   "metadata": {
    "ExecuteTime": {
     "end_time": "2021-05-14T03:54:40.724005Z",
     "start_time": "2021-05-14T03:54:40.703199Z"
    }
   },
   "outputs": [
    {
     "data": {
      "text/plain": [
       "array([ 0.1,  2. ,  0.3, 10.1])"
      ]
     },
     "execution_count": 67,
     "metadata": {},
     "output_type": "execute_result"
    }
   ],
   "source": [
    "pandas_series.values"
   ]
  },
  {
   "cell_type": "code",
   "execution_count": 68,
   "metadata": {
    "ExecuteTime": {
     "end_time": "2021-05-14T03:54:44.788392Z",
     "start_time": "2021-05-14T03:54:44.781819Z"
    }
   },
   "outputs": [],
   "source": [
    "pandas_to_torch = torch.from_numpy(pandas_series.values)"
   ]
  },
  {
   "cell_type": "code",
   "execution_count": 69,
   "metadata": {
    "ExecuteTime": {
     "end_time": "2021-05-14T03:54:49.010893Z",
     "start_time": "2021-05-14T03:54:49.002950Z"
    }
   },
   "outputs": [
    {
     "data": {
      "text/plain": [
       "tensor([ 0.1000,  2.0000,  0.3000, 10.1000], dtype=torch.float64)"
      ]
     },
     "execution_count": 69,
     "metadata": {},
     "output_type": "execute_result"
    }
   ],
   "source": [
    "pandas_to_torch"
   ]
  },
  {
   "cell_type": "code",
   "execution_count": 70,
   "metadata": {
    "ExecuteTime": {
     "end_time": "2021-05-14T03:55:38.538186Z",
     "start_time": "2021-05-14T03:55:38.522566Z"
    }
   },
   "outputs": [],
   "source": [
    "# OR Tensor to Python List\n",
    "\n",
    "this_tensor = torch.tensor([0,1,2,3])"
   ]
  },
  {
   "cell_type": "code",
   "execution_count": 71,
   "metadata": {
    "ExecuteTime": {
     "end_time": "2021-05-14T03:55:41.130085Z",
     "start_time": "2021-05-14T03:55:41.118948Z"
    }
   },
   "outputs": [
    {
     "data": {
      "text/plain": [
       "tensor([0, 1, 2, 3])"
      ]
     },
     "execution_count": 71,
     "metadata": {},
     "output_type": "execute_result"
    }
   ],
   "source": [
    "this_tensor"
   ]
  },
  {
   "cell_type": "code",
   "execution_count": 72,
   "metadata": {
    "ExecuteTime": {
     "end_time": "2021-05-14T03:55:50.248556Z",
     "start_time": "2021-05-14T03:55:50.229119Z"
    }
   },
   "outputs": [],
   "source": [
    "torch_to_list = this_tensor.tolist()"
   ]
  },
  {
   "cell_type": "code",
   "execution_count": 73,
   "metadata": {
    "ExecuteTime": {
     "end_time": "2021-05-14T03:55:54.879327Z",
     "start_time": "2021-05-14T03:55:54.859706Z"
    }
   },
   "outputs": [
    {
     "data": {
      "text/plain": [
       "[0, 1, 2, 3]"
      ]
     },
     "execution_count": 73,
     "metadata": {},
     "output_type": "execute_result"
    }
   ],
   "source": [
    "torch_to_list"
   ]
  },
  {
   "cell_type": "code",
   "execution_count": 74,
   "metadata": {
    "ExecuteTime": {
     "end_time": "2021-05-14T03:57:16.998833Z",
     "start_time": "2021-05-14T03:57:16.990830Z"
    }
   },
   "outputs": [],
   "source": [
    "# grabbing a value instead of the tensor\n",
    "\n",
    "new_tensor = torch.tensor([5,2,6,1])"
   ]
  },
  {
   "cell_type": "code",
   "execution_count": 76,
   "metadata": {
    "ExecuteTime": {
     "end_time": "2021-05-14T03:57:38.088595Z",
     "start_time": "2021-05-14T03:57:38.068580Z"
    }
   },
   "outputs": [
    {
     "data": {
      "text/plain": [
       "tensor(5)"
      ]
     },
     "execution_count": 76,
     "metadata": {},
     "output_type": "execute_result"
    }
   ],
   "source": [
    "new_tensor[0]\n",
    "# notice that it is called 'tensor(5)' not '5'"
   ]
  },
  {
   "cell_type": "code",
   "execution_count": 77,
   "metadata": {
    "ExecuteTime": {
     "end_time": "2021-05-14T03:57:42.260487Z",
     "start_time": "2021-05-14T03:57:42.243331Z"
    }
   },
   "outputs": [
    {
     "data": {
      "text/plain": [
       "tensor(2)"
      ]
     },
     "execution_count": 77,
     "metadata": {},
     "output_type": "execute_result"
    }
   ],
   "source": [
    "new_tensor[1]"
   ]
  },
  {
   "cell_type": "code",
   "execution_count": 78,
   "metadata": {
    "ExecuteTime": {
     "end_time": "2021-05-14T03:57:51.589097Z",
     "start_time": "2021-05-14T03:57:51.573692Z"
    }
   },
   "outputs": [
    {
     "name": "stdout",
     "output_type": "stream",
     "text": [
      "tensor(2)\n"
     ]
    }
   ],
   "source": [
    "print(new_tensor[1])"
   ]
  },
  {
   "cell_type": "code",
   "execution_count": 79,
   "metadata": {
    "ExecuteTime": {
     "end_time": "2021-05-14T03:58:03.534848Z",
     "start_time": "2021-05-14T03:58:03.519323Z"
    }
   },
   "outputs": [
    {
     "data": {
      "text/plain": [
       "tensor(3)"
      ]
     },
     "execution_count": 79,
     "metadata": {},
     "output_type": "execute_result"
    }
   ],
   "source": [
    "new_tensor[1]+1\n",
    "# but it's still can be calculate it directly"
   ]
  },
  {
   "cell_type": "code",
   "execution_count": 81,
   "metadata": {
    "ExecuteTime": {
     "end_time": "2021-05-14T03:59:00.607309Z",
     "start_time": "2021-05-14T03:59:00.590628Z"
    }
   },
   "outputs": [
    {
     "data": {
      "text/plain": [
       "5"
      ]
     },
     "execution_count": 81,
     "metadata": {},
     "output_type": "execute_result"
    }
   ],
   "source": [
    "new_tensor[0].item()\n",
    "# we should use '.item' method to extract the value only"
   ]
  },
  {
   "cell_type": "code",
   "execution_count": 83,
   "metadata": {
    "ExecuteTime": {
     "end_time": "2021-05-14T03:59:13.523901Z",
     "start_time": "2021-05-14T03:59:13.503388Z"
    }
   },
   "outputs": [
    {
     "data": {
      "text/plain": [
       "2"
      ]
     },
     "execution_count": 83,
     "metadata": {},
     "output_type": "execute_result"
    }
   ],
   "source": [
    "new_tensor[1].item()"
   ]
  },
  {
   "cell_type": "markdown",
   "metadata": {},
   "source": [
    "## Indexing, Slicing, Changing Value"
   ]
  },
  {
   "cell_type": "code",
   "execution_count": 104,
   "metadata": {
    "ExecuteTime": {
     "end_time": "2021-05-14T04:26:36.835519Z",
     "start_time": "2021-05-14T04:26:36.827260Z"
    }
   },
   "outputs": [],
   "source": [
    "c = torch.tensor([20,1,2,3,4], dtype = torch.int32)"
   ]
  },
  {
   "cell_type": "code",
   "execution_count": 105,
   "metadata": {
    "ExecuteTime": {
     "end_time": "2021-05-14T04:26:38.278916Z",
     "start_time": "2021-05-14T04:26:38.270396Z"
    }
   },
   "outputs": [
    {
     "data": {
      "text/plain": [
       "tensor([20,  1,  2,  3,  4], dtype=torch.int32)"
      ]
     },
     "execution_count": 105,
     "metadata": {},
     "output_type": "execute_result"
    }
   ],
   "source": [
    "c"
   ]
  },
  {
   "cell_type": "code",
   "execution_count": 106,
   "metadata": {
    "ExecuteTime": {
     "end_time": "2021-05-14T04:26:40.031166Z",
     "start_time": "2021-05-14T04:26:40.009470Z"
    }
   },
   "outputs": [],
   "source": [
    "c[0] = 100"
   ]
  },
  {
   "cell_type": "code",
   "execution_count": 107,
   "metadata": {
    "ExecuteTime": {
     "end_time": "2021-05-14T04:26:40.520924Z",
     "start_time": "2021-05-14T04:26:40.505043Z"
    }
   },
   "outputs": [
    {
     "data": {
      "text/plain": [
       "tensor([100,   1,   2,   3,   4], dtype=torch.int32)"
      ]
     },
     "execution_count": 107,
     "metadata": {},
     "output_type": "execute_result"
    }
   ],
   "source": [
    "c"
   ]
  },
  {
   "cell_type": "code",
   "execution_count": 108,
   "metadata": {
    "ExecuteTime": {
     "end_time": "2021-05-14T04:26:43.179981Z",
     "start_time": "2021-05-14T04:26:43.171599Z"
    }
   },
   "outputs": [],
   "source": [
    "d = c[1:4]"
   ]
  },
  {
   "cell_type": "code",
   "execution_count": 109,
   "metadata": {
    "ExecuteTime": {
     "end_time": "2021-05-14T04:26:44.693492Z",
     "start_time": "2021-05-14T04:26:44.667333Z"
    }
   },
   "outputs": [
    {
     "data": {
      "text/plain": [
       "tensor([1, 2, 3], dtype=torch.int32)"
      ]
     },
     "execution_count": 109,
     "metadata": {},
     "output_type": "execute_result"
    }
   ],
   "source": [
    "d"
   ]
  },
  {
   "cell_type": "code",
   "execution_count": 110,
   "metadata": {
    "ExecuteTime": {
     "end_time": "2021-05-14T04:26:46.292117Z",
     "start_time": "2021-05-14T04:26:46.270002Z"
    }
   },
   "outputs": [
    {
     "ename": "TypeError",
     "evalue": "can't assign a list to a torch.IntTensor",
     "output_type": "error",
     "traceback": [
      "\u001b[1;31m---------------------------------------------------------------------------\u001b[0m",
      "\u001b[1;31mTypeError\u001b[0m                                 Traceback (most recent call last)",
      "\u001b[1;32m<ipython-input-110-5615f73663c9>\u001b[0m in \u001b[0;36m<module>\u001b[1;34m\u001b[0m\n\u001b[1;32m----> 1\u001b[1;33m \u001b[0mc\u001b[0m\u001b[1;33m[\u001b[0m\u001b[1;36m3\u001b[0m\u001b[1;33m:\u001b[0m\u001b[1;36m5\u001b[0m\u001b[1;33m]\u001b[0m \u001b[1;33m=\u001b[0m \u001b[1;33m[\u001b[0m\u001b[1;36m300\u001b[0m\u001b[1;33m,\u001b[0m\u001b[1;36m400\u001b[0m\u001b[1;33m]\u001b[0m\u001b[1;33m\u001b[0m\u001b[1;33m\u001b[0m\u001b[0m\n\u001b[0m\u001b[0;32m      2\u001b[0m \u001b[1;31m# you can't assign new list without torch.tensor\u001b[0m\u001b[1;33m\u001b[0m\u001b[1;33m\u001b[0m\u001b[1;33m\u001b[0m\u001b[0m\n",
      "\u001b[1;31mTypeError\u001b[0m: can't assign a list to a torch.IntTensor"
     ]
    }
   ],
   "source": [
    "c[3:5] = [300,400]\n",
    "# you can't assign new list without torch.tensor"
   ]
  },
  {
   "cell_type": "code",
   "execution_count": 111,
   "metadata": {
    "ExecuteTime": {
     "end_time": "2021-05-14T04:27:00.841763Z",
     "start_time": "2021-05-14T04:27:00.831806Z"
    }
   },
   "outputs": [],
   "source": [
    "c[3:5] = torch.tensor([300,400])"
   ]
  },
  {
   "cell_type": "code",
   "execution_count": 112,
   "metadata": {
    "ExecuteTime": {
     "end_time": "2021-05-14T04:27:02.440729Z",
     "start_time": "2021-05-14T04:27:02.425142Z"
    }
   },
   "outputs": [
    {
     "data": {
      "text/plain": [
       "tensor([100,   1,   2, 300, 400], dtype=torch.int32)"
      ]
     },
     "execution_count": 112,
     "metadata": {},
     "output_type": "execute_result"
    }
   ],
   "source": [
    "c"
   ]
  },
  {
   "cell_type": "markdown",
   "metadata": {},
   "source": [
    "## Basic Operation\n",
    "tensors should be of the same type (**tensor + tensor**, not **tensor + list/array/series**)"
   ]
  },
  {
   "cell_type": "code",
   "execution_count": 113,
   "metadata": {
    "ExecuteTime": {
     "end_time": "2021-05-14T04:34:21.838262Z",
     "start_time": "2021-05-14T04:34:21.822359Z"
    }
   },
   "outputs": [],
   "source": [
    "u = torch.tensor([1.0, 0.0])\n",
    "v = torch.tensor([0.0, 1.0])"
   ]
  },
  {
   "cell_type": "code",
   "execution_count": 114,
   "metadata": {
    "ExecuteTime": {
     "end_time": "2021-05-14T04:34:25.024471Z",
     "start_time": "2021-05-14T04:34:25.008909Z"
    }
   },
   "outputs": [],
   "source": [
    "z = u+v"
   ]
  },
  {
   "cell_type": "code",
   "execution_count": 115,
   "metadata": {
    "ExecuteTime": {
     "end_time": "2021-05-14T04:34:25.919003Z",
     "start_time": "2021-05-14T04:34:25.899801Z"
    }
   },
   "outputs": [
    {
     "data": {
      "text/plain": [
       "tensor([1., 1.])"
      ]
     },
     "execution_count": 115,
     "metadata": {},
     "output_type": "execute_result"
    }
   ],
   "source": [
    "z"
   ]
  },
  {
   "cell_type": "code",
   "execution_count": 117,
   "metadata": {
    "ExecuteTime": {
     "end_time": "2021-05-14T04:35:25.077647Z",
     "start_time": "2021-05-14T04:35:25.054479Z"
    }
   },
   "outputs": [
    {
     "ename": "TypeError",
     "evalue": "unsupported operand type(s) for +: 'Tensor' and 'list'",
     "output_type": "error",
     "traceback": [
      "\u001b[1;31m---------------------------------------------------------------------------\u001b[0m",
      "\u001b[1;31mTypeError\u001b[0m                                 Traceback (most recent call last)",
      "\u001b[1;32m<ipython-input-117-1ef15621dcc9>\u001b[0m in \u001b[0;36m<module>\u001b[1;34m\u001b[0m\n\u001b[1;32m----> 1\u001b[1;33m \u001b[0mu\u001b[0m \u001b[1;33m+\u001b[0m \u001b[1;33m[\u001b[0m\u001b[1;36m3\u001b[0m\u001b[1;33m,\u001b[0m\u001b[1;36m3\u001b[0m\u001b[1;33m]\u001b[0m\u001b[1;33m\u001b[0m\u001b[1;33m\u001b[0m\u001b[0m\n\u001b[0m",
      "\u001b[1;31mTypeError\u001b[0m: unsupported operand type(s) for +: 'Tensor' and 'list'"
     ]
    }
   ],
   "source": [
    "u + [3,3]\n",
    "# you can't operand tensors with other data type"
   ]
  },
  {
   "cell_type": "code",
   "execution_count": 118,
   "metadata": {
    "ExecuteTime": {
     "end_time": "2021-05-14T04:36:02.382593Z",
     "start_time": "2021-05-14T04:36:02.366286Z"
    }
   },
   "outputs": [
    {
     "data": {
      "text/plain": [
       "tensor([4., 3.])"
      ]
     },
     "execution_count": 118,
     "metadata": {},
     "output_type": "execute_result"
    }
   ],
   "source": [
    "u + torch.tensor([3,3])"
   ]
  },
  {
   "cell_type": "code",
   "execution_count": 119,
   "metadata": {
    "ExecuteTime": {
     "end_time": "2021-05-14T04:37:53.510255Z",
     "start_time": "2021-05-14T04:37:53.504265Z"
    }
   },
   "outputs": [],
   "source": [
    "# MULTIPLICATION\n",
    "# hadamard product\n",
    "\n",
    "y  = torch.tensor([1,2])"
   ]
  },
  {
   "cell_type": "code",
   "execution_count": 120,
   "metadata": {
    "ExecuteTime": {
     "end_time": "2021-05-14T04:37:55.088925Z",
     "start_time": "2021-05-14T04:37:55.073127Z"
    }
   },
   "outputs": [
    {
     "data": {
      "text/plain": [
       "tensor([1, 2])"
      ]
     },
     "execution_count": 120,
     "metadata": {},
     "output_type": "execute_result"
    }
   ],
   "source": [
    "y"
   ]
  },
  {
   "cell_type": "code",
   "execution_count": 121,
   "metadata": {
    "ExecuteTime": {
     "end_time": "2021-05-14T04:37:58.219172Z",
     "start_time": "2021-05-14T04:37:58.207124Z"
    }
   },
   "outputs": [],
   "source": [
    "z = 2*y"
   ]
  },
  {
   "cell_type": "code",
   "execution_count": 122,
   "metadata": {
    "ExecuteTime": {
     "end_time": "2021-05-14T04:37:59.239349Z",
     "start_time": "2021-05-14T04:37:59.221553Z"
    }
   },
   "outputs": [
    {
     "data": {
      "text/plain": [
       "tensor([2, 4])"
      ]
     },
     "execution_count": 122,
     "metadata": {},
     "output_type": "execute_result"
    }
   ],
   "source": [
    "z"
   ]
  },
  {
   "cell_type": "code",
   "execution_count": 123,
   "metadata": {
    "ExecuteTime": {
     "end_time": "2021-05-14T04:39:07.126211Z",
     "start_time": "2021-05-14T04:39:07.118217Z"
    }
   },
   "outputs": [],
   "source": [
    "u = torch.tensor([1,2])\n",
    "v = torch.tensor([3,2])"
   ]
  },
  {
   "cell_type": "code",
   "execution_count": 124,
   "metadata": {
    "ExecuteTime": {
     "end_time": "2021-05-14T04:39:10.196052Z",
     "start_time": "2021-05-14T04:39:10.171659Z"
    }
   },
   "outputs": [],
   "source": [
    "z = u*v"
   ]
  },
  {
   "cell_type": "code",
   "execution_count": 125,
   "metadata": {
    "ExecuteTime": {
     "end_time": "2021-05-14T04:39:10.817202Z",
     "start_time": "2021-05-14T04:39:10.809156Z"
    }
   },
   "outputs": [
    {
     "data": {
      "text/plain": [
       "tensor([3, 4])"
      ]
     },
     "execution_count": 125,
     "metadata": {},
     "output_type": "execute_result"
    }
   ],
   "source": [
    "z"
   ]
  },
  {
   "cell_type": "code",
   "execution_count": 126,
   "metadata": {
    "ExecuteTime": {
     "end_time": "2021-05-14T04:43:47.347902Z",
     "start_time": "2021-05-14T04:43:47.324059Z"
    }
   },
   "outputs": [],
   "source": [
    "# MULTIPLICATION\n",
    "# dot product\n",
    "\n",
    "u = torch.tensor([1,2])\n",
    "v = torch.tensor([3,1])"
   ]
  },
  {
   "cell_type": "code",
   "execution_count": 127,
   "metadata": {
    "ExecuteTime": {
     "end_time": "2021-05-14T04:43:53.603649Z",
     "start_time": "2021-05-14T04:43:53.595648Z"
    }
   },
   "outputs": [],
   "source": [
    "result = torch.dot(u,v)\n",
    "# 1*3 + 2*1 = 5"
   ]
  },
  {
   "cell_type": "code",
   "execution_count": 128,
   "metadata": {
    "ExecuteTime": {
     "end_time": "2021-05-14T04:43:55.081846Z",
     "start_time": "2021-05-14T04:43:55.065168Z"
    }
   },
   "outputs": [
    {
     "data": {
      "text/plain": [
       "tensor(5)"
      ]
     },
     "execution_count": 128,
     "metadata": {},
     "output_type": "execute_result"
    }
   ],
   "source": [
    "result"
   ]
  },
  {
   "cell_type": "code",
   "execution_count": 129,
   "metadata": {
    "ExecuteTime": {
     "end_time": "2021-05-14T04:45:17.801579Z",
     "start_time": "2021-05-14T04:45:17.771812Z"
    }
   },
   "outputs": [],
   "source": [
    "# ADDING CONSTANT TO A TENSOR\n",
    "u = torch.tensor([1,2,3,-1])"
   ]
  },
  {
   "cell_type": "code",
   "execution_count": 130,
   "metadata": {
    "ExecuteTime": {
     "end_time": "2021-05-14T04:45:20.873427Z",
     "start_time": "2021-05-14T04:45:20.865418Z"
    }
   },
   "outputs": [],
   "source": [
    "z = u+1"
   ]
  },
  {
   "cell_type": "code",
   "execution_count": 131,
   "metadata": {
    "ExecuteTime": {
     "end_time": "2021-05-14T04:45:21.696344Z",
     "start_time": "2021-05-14T04:45:21.673869Z"
    }
   },
   "outputs": [
    {
     "data": {
      "text/plain": [
       "tensor([2, 3, 4, 0])"
      ]
     },
     "execution_count": 131,
     "metadata": {},
     "output_type": "execute_result"
    }
   ],
   "source": [
    "z"
   ]
  },
  {
   "cell_type": "markdown",
   "metadata": {},
   "source": [
    "## Functions"
   ]
  },
  {
   "cell_type": "code",
   "execution_count": 135,
   "metadata": {
    "ExecuteTime": {
     "end_time": "2021-05-14T04:53:22.719450Z",
     "start_time": "2021-05-14T04:53:22.686588Z"
    }
   },
   "outputs": [],
   "source": [
    "a = torch.tensor([1,-1,1,-1], dtype = torch.float32)"
   ]
  },
  {
   "cell_type": "code",
   "execution_count": 136,
   "metadata": {
    "ExecuteTime": {
     "end_time": "2021-05-14T04:53:23.182059Z",
     "start_time": "2021-05-14T04:53:23.166534Z"
    }
   },
   "outputs": [],
   "source": [
    "mean_a = a.mean()"
   ]
  },
  {
   "cell_type": "code",
   "execution_count": 137,
   "metadata": {
    "ExecuteTime": {
     "end_time": "2021-05-14T04:53:29.191971Z",
     "start_time": "2021-05-14T04:53:29.183731Z"
    }
   },
   "outputs": [
    {
     "data": {
      "text/plain": [
       "tensor(0.)"
      ]
     },
     "execution_count": 137,
     "metadata": {},
     "output_type": "execute_result"
    }
   ],
   "source": [
    "mean_a"
   ]
  },
  {
   "cell_type": "code",
   "execution_count": 138,
   "metadata": {
    "ExecuteTime": {
     "end_time": "2021-05-14T04:54:07.956170Z",
     "start_time": "2021-05-14T04:54:07.932167Z"
    }
   },
   "outputs": [],
   "source": [
    "# MAX function\n",
    "b  = torch.tensor([1,-2,3,4,5])\n",
    "max_b = b.max()"
   ]
  },
  {
   "cell_type": "code",
   "execution_count": 139,
   "metadata": {
    "ExecuteTime": {
     "end_time": "2021-05-14T04:54:09.504611Z",
     "start_time": "2021-05-14T04:54:09.492658Z"
    }
   },
   "outputs": [
    {
     "data": {
      "text/plain": [
       "tensor(5)"
      ]
     },
     "execution_count": 139,
     "metadata": {},
     "output_type": "execute_result"
    }
   ],
   "source": [
    "max_b"
   ]
  },
  {
   "cell_type": "code",
   "execution_count": 140,
   "metadata": {
    "ExecuteTime": {
     "end_time": "2021-05-14T04:54:32.682098Z",
     "start_time": "2021-05-14T04:54:32.657231Z"
    }
   },
   "outputs": [
    {
     "data": {
      "text/plain": [
       "3.141592653589793"
      ]
     },
     "execution_count": 140,
     "metadata": {},
     "output_type": "execute_result"
    }
   ],
   "source": [
    "# SIN function\n",
    "# applying the sin function to each component of the vector\n",
    "np.pi"
   ]
  },
  {
   "cell_type": "code",
   "execution_count": 141,
   "metadata": {
    "ExecuteTime": {
     "end_time": "2021-05-14T04:55:22.706670Z",
     "start_time": "2021-05-14T04:55:22.697479Z"
    }
   },
   "outputs": [],
   "source": [
    "x = torch.tensor([0, np.pi/2, np.pi])\n",
    "y = torch.sin(x)"
   ]
  },
  {
   "cell_type": "code",
   "execution_count": 142,
   "metadata": {
    "ExecuteTime": {
     "end_time": "2021-05-14T04:55:32.304757Z",
     "start_time": "2021-05-14T04:55:32.284529Z"
    }
   },
   "outputs": [
    {
     "data": {
      "text/plain": [
       "tensor([ 0.0000e+00,  1.0000e+00, -8.7423e-08])"
      ]
     },
     "execution_count": 142,
     "metadata": {},
     "output_type": "execute_result"
    }
   ],
   "source": [
    "y"
   ]
  },
  {
   "cell_type": "code",
   "execution_count": 145,
   "metadata": {
    "ExecuteTime": {
     "end_time": "2021-05-14T04:55:57.865623Z",
     "start_time": "2021-05-14T04:55:57.841590Z"
    }
   },
   "outputs": [
    {
     "data": {
      "text/plain": [
       "tensor([0, 1, 0], dtype=torch.int32)"
      ]
     },
     "execution_count": 145,
     "metadata": {},
     "output_type": "execute_result"
    }
   ],
   "source": [
    "y.type(torch.IntTensor)"
   ]
  },
  {
   "cell_type": "code",
   "execution_count": 146,
   "metadata": {
    "ExecuteTime": {
     "end_time": "2021-05-14T04:56:22.665390Z",
     "start_time": "2021-05-14T04:56:22.645989Z"
    }
   },
   "outputs": [
    {
     "data": {
      "text/plain": [
       "tensor([-2., -1.,  0.,  1.,  2.])"
      ]
     },
     "execution_count": 146,
     "metadata": {},
     "output_type": "execute_result"
    }
   ],
   "source": [
    "# LINSPACE\n",
    "torch.linspace(-2,2, steps = 5)"
   ]
  },
  {
   "cell_type": "code",
   "execution_count": 148,
   "metadata": {
    "ExecuteTime": {
     "end_time": "2021-05-14T04:56:52.478107Z",
     "start_time": "2021-05-14T04:56:52.469901Z"
    }
   },
   "outputs": [
    {
     "data": {
      "text/plain": [
       "tensor([-2.0000, -1.5000, -1.0000, -0.5000,  0.0000,  0.5000,  1.0000,  1.5000,\n",
       "         2.0000])"
      ]
     },
     "execution_count": 148,
     "metadata": {},
     "output_type": "execute_result"
    }
   ],
   "source": [
    "torch.linspace(-2, 2, steps = 9)"
   ]
  },
  {
   "cell_type": "code",
   "execution_count": 154,
   "metadata": {
    "ExecuteTime": {
     "end_time": "2021-05-14T04:58:45.379832Z",
     "start_time": "2021-05-14T04:58:45.372053Z"
    }
   },
   "outputs": [],
   "source": [
    "# PLOTTING MATHEMATICAL FUNCTIONS\n",
    "x = torch.linspace(0, 2*np.pi, 100)\n",
    "y = torch.sin(x)"
   ]
  },
  {
   "cell_type": "code",
   "execution_count": 155,
   "metadata": {
    "ExecuteTime": {
     "end_time": "2021-05-14T04:58:46.142992Z",
     "start_time": "2021-05-14T04:58:46.121684Z"
    }
   },
   "outputs": [],
   "source": [
    "import matplotlib.pyplot as plt"
   ]
  },
  {
   "cell_type": "code",
   "execution_count": 160,
   "metadata": {
    "ExecuteTime": {
     "end_time": "2021-05-14T05:00:17.884280Z",
     "start_time": "2021-05-14T05:00:17.653925Z"
    }
   },
   "outputs": [
    {
     "data": {
      "image/png": "[encoded data removed]",
      "text/plain": [
       "<Figure size 640x480 with 1 Axes>"
      ]
     },
     "metadata": {},
     "output_type": "display_data"
    }
   ],
   "source": [
    "plt.plot(x.numpy(), y.numpy())\n",
    "plt.title('Plotting Tensors to Matplotlib')\n",
    "plt.style.use('default')\n",
    "plt.show()"
   ]
  },
  {
   "cell_type": "markdown",
   "metadata": {},
   "source": [
    "## More Examples"
   ]
  },
  {
   "cell_type": "code",
   "execution_count": 161,
   "metadata": {
    "ExecuteTime": {
     "end_time": "2021-05-14T06:55:14.364026Z",
     "start_time": "2021-05-14T06:55:14.341912Z"
    }
   },
   "outputs": [],
   "source": [
    "import torch\n",
    "import numpy as np\n",
    "import pandas as pd\n",
    "import matplotlib.pyplot as plt"
   ]
  },
  {
   "cell_type": "code",
   "execution_count": 162,
   "metadata": {
    "ExecuteTime": {
     "end_time": "2021-05-14T06:55:19.291773Z",
     "start_time": "2021-05-14T06:55:19.277671Z"
    }
   },
   "outputs": [
    {
     "data": {
      "text/plain": [
       "'1.7.1+cu110'"
      ]
     },
     "execution_count": 162,
     "metadata": {},
     "output_type": "execute_result"
    }
   ],
   "source": [
    "torch.__version__"
   ]
  },
  {
   "cell_type": "code",
   "execution_count": 163,
   "metadata": {
    "ExecuteTime": {
     "end_time": "2021-05-14T06:57:18.444840Z",
     "start_time": "2021-05-14T06:57:18.429841Z"
    }
   },
   "outputs": [
    {
     "name": "stdout",
     "output_type": "stream",
     "text": [
      "The dtype of the tensor after converting it to tensor: torch.int64\n",
      "The type of tensor object after converting it to tensor: torch.LongTensor\n"
     ]
    }
   ],
   "source": [
    "ints_to_tensor = torch.tensor([0, 1, 2, 3, 4])\n",
    "print(f\"The dtype of the tensor after converting it to tensor: {ints_to_tensor.dtype}\")\n",
    "print(f\"The type of tensor object after converting it to tensor: {ints_to_tensor.type()}\")"
   ]
  },
  {
   "cell_type": "code",
   "execution_count": 164,
   "metadata": {
    "ExecuteTime": {
     "end_time": "2021-05-14T07:05:30.064996Z",
     "start_time": "2021-05-14T07:05:30.052988Z"
    }
   },
   "outputs": [
    {
     "data": {
      "text/plain": [
       "torch.Tensor"
      ]
     },
     "execution_count": 164,
     "metadata": {},
     "output_type": "execute_result"
    }
   ],
   "source": [
    "type(ints_to_tensor)\n",
    "# but the Python's type is still 'torch.Tensor'"
   ]
  },
  {
   "cell_type": "code",
   "execution_count": 166,
   "metadata": {
    "ExecuteTime": {
     "end_time": "2021-05-14T07:08:06.634674Z",
     "start_time": "2021-05-14T07:08:06.622673Z"
    }
   },
   "outputs": [
    {
     "name": "stdout",
     "output_type": "stream",
     "text": [
      "The dtype of tensor object after converting it to tensor: torch.float32\n",
      "The type of tensor object after converting it to tensor: torch.FloatTensor\n"
     ]
    }
   ],
   "source": [
    "floats_to_tensor = torch.tensor([0.0, 1.0, 2.0 ,3.0, 4.0])\n",
    "print(f\"The dtype of tensor object after converting it to tensor: {floats_to_tensor.dtype}\")\n",
    "print(f\"The type of tensor object after converting it to tensor: {floats_to_tensor.type()}\")"
   ]
  },
  {
   "cell_type": "code",
   "execution_count": 167,
   "metadata": {
    "ExecuteTime": {
     "end_time": "2021-05-14T07:10:05.774290Z",
     "start_time": "2021-05-14T07:10:05.760275Z"
    }
   },
   "outputs": [
    {
     "name": "stdout",
     "output_type": "stream",
     "text": [
      "The dtype of tensor object is: torch.int64\n",
      "The type of tensor object is: torch.LongTensor\n"
     ]
    },
    {
     "name": "stderr",
     "output_type": "stream",
     "text": [
      "<ipython-input-167-188bbb663108>:2: DeprecationWarning: an integer is required (got type float).  Implicit conversion to integers using __int__ is deprecated, and may be removed in a future version of Python.\n",
      "  floats_int_tensor = torch.tensor(list_floats, dtype = torch.int64)\n"
     ]
    }
   ],
   "source": [
    "list_floats = [0.0, 1.0, 2.0, 3.0, 4.0]\n",
    "floats_int_tensor = torch.tensor(list_floats, dtype = torch.int64)\n",
    "print(f\"The dtype of tensor object is: {floats_int_tensor.dtype}\")\n",
    "print(f\"The type of tensor object is: {floats_int_tensor.type()}\")"
   ]
  },
  {
   "cell_type": "code",
   "execution_count": 168,
   "metadata": {
    "ExecuteTime": {
     "end_time": "2021-05-14T07:10:30.751158Z",
     "start_time": "2021-05-14T07:10:30.736517Z"
    }
   },
   "outputs": [
    {
     "data": {
      "text/plain": [
       "tensor([0, 1, 2, 3, 4])"
      ]
     },
     "execution_count": 168,
     "metadata": {},
     "output_type": "execute_result"
    }
   ],
   "source": [
    "floats_int_tensor"
   ]
  },
  {
   "cell_type": "code",
   "execution_count": 169,
   "metadata": {
    "ExecuteTime": {
     "end_time": "2021-05-14T07:12:38.080414Z",
     "start_time": "2021-05-14T07:12:38.062371Z"
    }
   },
   "outputs": [
    {
     "name": "stdout",
     "output_type": "stream",
     "text": [
      "The type of the new_float_tensor: torch.FloatTensor\n"
     ]
    }
   ],
   "source": [
    "# CONVERT AN INTEGER LIST WITH LENGT 5 TO FLOAT TENSOR\n",
    "\n",
    "new_float_tensor = torch.FloatTensor([0, 1, 2, 3, 4,])\n",
    "print(f\"The type of the new_float_tensor: {new_float_tensor.type()}\")"
   ]
  },
  {
   "cell_type": "code",
   "execution_count": 170,
   "metadata": {
    "ExecuteTime": {
     "end_time": "2021-05-14T07:12:47.866460Z",
     "start_time": "2021-05-14T07:12:47.849461Z"
    }
   },
   "outputs": [
    {
     "data": {
      "text/plain": [
       "tensor([0., 1., 2., 3., 4.])"
      ]
     },
     "execution_count": 170,
     "metadata": {},
     "output_type": "execute_result"
    }
   ],
   "source": [
    "new_float_tensor"
   ]
  },
  {
   "cell_type": "code",
   "execution_count": 175,
   "metadata": {
    "ExecuteTime": {
     "end_time": "2021-05-14T08:11:49.175173Z",
     "start_time": "2021-05-14T08:11:49.169171Z"
    }
   },
   "outputs": [
    {
     "name": "stdout",
     "output_type": "stream",
     "text": [
      "The type of the new_float_tensor torch.FloatTensor\n",
      "The size of the new_float_tensor: torch.Size([5])\n",
      "The dimension of the new_float_tensor: 1\n"
     ]
    }
   ],
   "source": [
    "# ANOTHER METHOD TO CONVERT THE INTEGER LIST TO FLOAT TENSOR\n",
    "\n",
    "old_int_tensor = torch.tensor([0, 1, 2, 3, 4])\n",
    "new_float_tensor = old_int_tensor.type(torch.FloatTensor)\n",
    "print(\"The type of the new_float_tensor\", new_float_tensor.type())\n",
    "print(f\"The size of the new_float_tensor: {new_float_tensor.size()}\")\n",
    "print(f\"The dimension of the new_float_tensor: {new_float_tensor.ndimension()}\")"
   ]
  },
  {
   "cell_type": "code",
   "execution_count": 177,
   "metadata": {
    "ExecuteTime": {
     "end_time": "2021-05-14T08:14:04.711222Z",
     "start_time": "2021-05-14T08:14:04.697213Z"
    }
   },
   "outputs": [
    {
     "name": "stdout",
     "output_type": "stream",
     "text": [
      "Original Size:  tensor([0., 1., 2., 3., 4.])\n",
      "Size after view method:  tensor([[0.],\n",
      "        [1.],\n",
      "        [2.],\n",
      "        [3.],\n",
      "        [4.]])\n"
     ]
    }
   ],
   "source": [
    "# RESHAPING THE SIZE OF TENSOR\n",
    "# Note: The number of elements in a tensor must remain constant after applying view.\n",
    "\n",
    "twoD_float_tensor = new_float_tensor.view(5,1)\n",
    "# twoD_float_tensor = new_float_tensor.view(-1,1)\n",
    "print(\"Original Size: \", new_float_tensor)\n",
    "print(\"Size after view method: \", twoD_float_tensor)\n",
    "\n",
    "# What if you have a tensor with dynamic size but you want to reshape it? You can use \"-1\" to do just that.\n",
    "# The -1 can represent any size. However, be careful because you can set only one argument as -1."
   ]
  },
  {
   "cell_type": "markdown",
   "metadata": {},
   "source": [
    "## PRACTICE"
   ]
  },
  {
   "cell_type": "code",
   "execution_count": 183,
   "metadata": {
    "ExecuteTime": {
     "end_time": "2021-05-14T08:21:20.726658Z",
     "start_time": "2021-05-14T08:21:20.721139Z"
    }
   },
   "outputs": [],
   "source": [
    "#1\n",
    "# convert the following tensor to a tensor object with 1 row and 5 columns\n",
    "\n",
    "your_tensor = torch.tensor([1, 2, 3, 4, 5])\n",
    "your_new_tensor = your_tensor.view(1, 5)"
   ]
  },
  {
   "cell_type": "code",
   "execution_count": 184,
   "metadata": {
    "ExecuteTime": {
     "end_time": "2021-05-14T08:21:20.981449Z",
     "start_time": "2021-05-14T08:21:20.963355Z"
    }
   },
   "outputs": [
    {
     "name": "stdout",
     "output_type": "stream",
     "text": [
      "Original Size:  tensor([1, 2, 3, 4, 5])\n",
      "Size after view method tensor([[1, 2, 3, 4, 5]])\n"
     ]
    }
   ],
   "source": [
    "print(\"Original Size: \", your_tensor)\n",
    "print(\"Size after view method\", your_new_tensor)"
   ]
  },
  {
   "cell_type": "code",
   "execution_count": 190,
   "metadata": {
    "ExecuteTime": {
     "end_time": "2021-05-14T08:27:01.547665Z",
     "start_time": "2021-05-14T08:27:01.533665Z"
    }
   },
   "outputs": [],
   "source": [
    "#2\n",
    "# Change the values on index 3, 4, 7 to 0\n",
    "\n",
    "practice_tensor = torch.tensor([2, 7, 3, 4, 6, 2, 3, 1, 2])"
   ]
  },
  {
   "cell_type": "code",
   "execution_count": 192,
   "metadata": {
    "ExecuteTime": {
     "end_time": "2021-05-14T08:27:35.836079Z",
     "start_time": "2021-05-14T08:27:35.812520Z"
    }
   },
   "outputs": [],
   "source": [
    "practice_tensor[[3, 4, 7]] = 0"
   ]
  },
  {
   "cell_type": "code",
   "execution_count": 193,
   "metadata": {
    "ExecuteTime": {
     "end_time": "2021-05-14T08:27:40.413209Z",
     "start_time": "2021-05-14T08:27:40.401191Z"
    }
   },
   "outputs": [
    {
     "data": {
      "text/plain": [
       "tensor([2, 7, 3, 0, 0, 2, 3, 0, 2])"
      ]
     },
     "execution_count": 193,
     "metadata": {},
     "output_type": "execute_result"
    }
   ],
   "source": [
    "practice_tensor"
   ]
  },
  {
   "cell_type": "code",
   "execution_count": 194,
   "metadata": {
    "ExecuteTime": {
     "end_time": "2021-05-14T08:28:24.744458Z",
     "start_time": "2021-05-14T08:28:24.726014Z"
    }
   },
   "outputs": [],
   "source": [
    "# # ALT ANSWER\n",
    "# selected_indexes = [3, 4, 7]\n",
    "# practice_tensor[selected_indexes] = 0\n",
    "# print(\"New Practice Tensor: \", practice_tensor)"
   ]
  },
  {
   "cell_type": "code",
   "execution_count": 195,
   "metadata": {
    "ExecuteTime": {
     "end_time": "2021-05-14T08:29:48.500225Z",
     "start_time": "2021-05-14T08:29:48.473627Z"
    }
   },
   "outputs": [
    {
     "data": {
      "text/plain": [
       "tensor([0.0000, 0.0654, 0.1309, 0.1963, 0.2618, 0.3272, 0.3927, 0.4581, 0.5236,\n",
       "        0.5890, 0.6545, 0.7199, 0.7854, 0.8508, 0.9163, 0.9817, 1.0472, 1.1126,\n",
       "        1.1781, 1.2435, 1.3090, 1.3744, 1.4399, 1.5053, 1.5708])"
      ]
     },
     "execution_count": 195,
     "metadata": {},
     "output_type": "execute_result"
    }
   ],
   "source": [
    "# 3\n",
    "# Construct a tensor with 25 steps in the range 0 to π/2. Print out the Maximum and Minimum number. Also, plot a graph showing the diagram that shows the result.\n",
    "\n",
    "mytens = torch.linspace(0, np.pi/2, steps = 25)\n",
    "mytens"
   ]
  },
  {
   "cell_type": "code",
   "execution_count": 196,
   "metadata": {
    "ExecuteTime": {
     "end_time": "2021-05-14T08:30:06.927338Z",
     "start_time": "2021-05-14T08:30:06.922337Z"
    }
   },
   "outputs": [
    {
     "data": {
      "text/plain": [
       "tensor(1.5708)"
      ]
     },
     "execution_count": 196,
     "metadata": {},
     "output_type": "execute_result"
    }
   ],
   "source": [
    "mytens.max()"
   ]
  },
  {
   "cell_type": "code",
   "execution_count": 197,
   "metadata": {
    "ExecuteTime": {
     "end_time": "2021-05-14T08:30:11.323484Z",
     "start_time": "2021-05-14T08:30:11.301392Z"
    }
   },
   "outputs": [
    {
     "data": {
      "text/plain": [
       "tensor(0.)"
      ]
     },
     "execution_count": 197,
     "metadata": {},
     "output_type": "execute_result"
    }
   ],
   "source": [
    "mytens.min()"
   ]
  },
  {
   "cell_type": "code",
   "execution_count": 198,
   "metadata": {
    "ExecuteTime": {
     "end_time": "2021-05-14T08:30:25.556004Z",
     "start_time": "2021-05-14T08:30:25.538955Z"
    }
   },
   "outputs": [
    {
     "data": {
      "text/plain": [
       "tensor(1.5708)"
      ]
     },
     "execution_count": 198,
     "metadata": {},
     "output_type": "execute_result"
    }
   ],
   "source": [
    "max(mytens)"
   ]
  },
  {
   "cell_type": "code",
   "execution_count": 199,
   "metadata": {
    "ExecuteTime": {
     "end_time": "2021-05-14T08:31:04.318112Z",
     "start_time": "2021-05-14T08:31:04.309118Z"
    }
   },
   "outputs": [
    {
     "name": "stdout",
     "output_type": "stream",
     "text": [
      "The maximum number of the tensors is 1.5707963705062866, and the minimum number of the tensors is 0.0\n"
     ]
    }
   ],
   "source": [
    "print(f\"The maximum number of the tensors is {mytens.max()}, and the minimum number of the tensors is {mytens.min()}\")"
   ]
  },
  {
   "cell_type": "code",
   "execution_count": 201,
   "metadata": {
    "ExecuteTime": {
     "end_time": "2021-05-14T08:32:46.512963Z",
     "start_time": "2021-05-14T08:32:46.389944Z"
    }
   },
   "outputs": [
    {
     "data": {
      "text/plain": [
       "[<matplotlib.lines.Line2D at 0x1ebee96bd90>]"
      ]
     },
     "execution_count": 201,
     "metadata": {},
     "output_type": "execute_result"
    },
    {
     "data": {
      "image/png": "[encoded data removed]",
      "text/plain": [
       "<Figure size 640x480 with 1 Axes>"
      ]
     },
     "metadata": {},
     "output_type": "display_data"
    }
   ],
   "source": [
    "sin_result = torch.sin(mytens)\n",
    "plt.plot(mytens.numpy(), sin_result.numpy())"
   ]
  },
  {
   "cell_type": "code",
   "execution_count": 203,
   "metadata": {
    "ExecuteTime": {
     "end_time": "2021-05-14T08:33:55.682874Z",
     "start_time": "2021-05-14T08:33:55.673792Z"
    }
   },
   "outputs": [],
   "source": [
    "## ALT ANSWER\n",
    "\n",
    "# pi_tensor = torch.linspace(0, np.pi/2, 100)\n",
    "# print(\"Max Number: \", pi_tensor.max())\n",
    "# print(\"Min Number\", pi_tensor.min())\n",
    "# sin_result = torch.sin(pi_tensor)\n",
    "# plt.plot(pi_tensor.numpy(), sin_result.numpy())"
   ]
  },
  {
   "cell_type": "code",
   "execution_count": 204,
   "metadata": {
    "ExecuteTime": {
     "end_time": "2021-05-14T08:37:02.801529Z",
     "start_time": "2021-05-14T08:37:02.784538Z"
    }
   },
   "outputs": [],
   "source": [
    "# 4\n",
    "# Convert the list [-1, 1] and [1, 1] to tensors u and v. Then, plot the tensor u and v as a vector by using the function plotVec and find the dot product:\n",
    "\n",
    "u = torch.tensor([-1,1])\n",
    "v = torch.tensor([1, 1])"
   ]
  },
  {
   "cell_type": "code",
   "execution_count": 210,
   "metadata": {
    "ExecuteTime": {
     "end_time": "2021-05-14T08:41:43.981591Z",
     "start_time": "2021-05-14T08:41:43.973853Z"
    }
   },
   "outputs": [],
   "source": [
    "def plotVec(vectors):\n",
    "    '''\n",
    "    Plot vecotrs, please keep the parameters in the same length\n",
    "    @param: Vectors = [{\"vector\": vector variable, \"name\": name of vector, \"color\": color of the vector on diagram}]\n",
    "    '''\n",
    "    ax = plt.axes()\n",
    "    \n",
    "    for vec in vectors:\n",
    "        ax.arrow(0, 0, *vec['vector'], head_width = 0.05, color = vec['color'], head_length = 0.1)\n",
    "        plt.text(*(vec['vector'] + 0.1), vec['name'])\n",
    "        \n",
    "    plt.ylim(-2,2)\n",
    "    plt.xlim(-2,2)"
   ]
  },
  {
   "cell_type": "code",
   "execution_count": 205,
   "metadata": {
    "ExecuteTime": {
     "end_time": "2021-05-14T08:37:35.106437Z",
     "start_time": "2021-05-14T08:37:35.093438Z"
    }
   },
   "outputs": [
    {
     "data": {
      "text/plain": [
       "tensor(0)"
      ]
     },
     "execution_count": 205,
     "metadata": {},
     "output_type": "execute_result"
    }
   ],
   "source": [
    "z = torch.dot(u, v)\n",
    "z"
   ]
  },
  {
   "cell_type": "code",
   "execution_count": 211,
   "metadata": {
    "ExecuteTime": {
     "end_time": "2021-05-14T08:41:47.509054Z",
     "start_time": "2021-05-14T08:41:47.370260Z"
    },
    "scrolled": false
   },
   "outputs": [
    {
     "data": {
      "image/png": "[encoded data removed]",
      "text/plain": [
       "<Figure size 640x480 with 1 Axes>"
      ]
     },
     "metadata": {},
     "output_type": "display_data"
    }
   ],
   "source": [
    "plotVec([\n",
    "    {'vector': u.numpy(), 'name': 'u', 'color': 'r'},\n",
    "    {'vector': v.numpy(), 'name': 'v', 'color': 'b'}\n",
    "])"
   ]
  },
  {
   "cell_type": "markdown",
   "metadata": {},
   "source": [
    "## QUIZ"
   ]
  },
  {
   "cell_type": "code",
   "execution_count": 212,
   "metadata": {
    "ExecuteTime": {
     "end_time": "2021-05-14T08:46:39.253292Z",
     "start_time": "2021-05-14T08:46:39.243991Z"
    }
   },
   "outputs": [
    {
     "data": {
      "text/plain": [
       "tensor([9, 8])"
      ]
     },
     "execution_count": 212,
     "metadata": {},
     "output_type": "execute_result"
    }
   ],
   "source": [
    "a = torch.tensor([10,9,8,7])\n",
    "a[1:3]"
   ]
  },
  {
   "cell_type": "code",
   "execution_count": 216,
   "metadata": {
    "ExecuteTime": {
     "end_time": "2021-05-14T08:47:59.389857Z",
     "start_time": "2021-05-14T08:47:59.372576Z"
    }
   },
   "outputs": [
    {
     "data": {
      "text/plain": [
       "9"
      ]
     },
     "execution_count": 216,
     "metadata": {},
     "output_type": "execute_result"
    }
   ],
   "source": [
    "a[1].item()"
   ]
  },
  {
   "cell_type": "markdown",
   "metadata": {},
   "source": [
    "# Torch 2d"
   ]
  },
  {
   "cell_type": "code",
   "execution_count": 217,
   "metadata": {
    "ExecuteTime": {
     "end_time": "2021-05-14T08:48:38.324091Z",
     "start_time": "2021-05-14T08:48:38.310053Z"
    }
   },
   "outputs": [],
   "source": [
    "import numpy as np\n",
    "import matplotlib.pyplot as plt\n",
    "import pandas as pd\n",
    "import torch"
   ]
  },
  {
   "cell_type": "markdown",
   "metadata": {},
   "source": [
    "## Size and Dimension"
   ]
  },
  {
   "cell_type": "code",
   "execution_count": 218,
   "metadata": {
    "ExecuteTime": {
     "end_time": "2021-05-14T08:52:24.554601Z",
     "start_time": "2021-05-14T08:52:24.541588Z"
    }
   },
   "outputs": [],
   "source": [
    "a = [\n",
    "    [11,12,13],\n",
    "    [21,22,23],\n",
    "    [31,32,33]\n",
    "]"
   ]
  },
  {
   "cell_type": "code",
   "execution_count": 219,
   "metadata": {
    "ExecuteTime": {
     "end_time": "2021-05-14T08:52:29.264291Z",
     "start_time": "2021-05-14T08:52:29.260292Z"
    }
   },
   "outputs": [],
   "source": [
    "A = torch.tensor(a)"
   ]
  },
  {
   "cell_type": "code",
   "execution_count": 221,
   "metadata": {
    "ExecuteTime": {
     "end_time": "2021-05-14T08:52:39.958455Z",
     "start_time": "2021-05-14T08:52:39.948044Z"
    }
   },
   "outputs": [
    {
     "data": {
      "text/plain": [
       "torch.Size([3, 3])"
      ]
     },
     "execution_count": 221,
     "metadata": {},
     "output_type": "execute_result"
    }
   ],
   "source": [
    "A.size()\n",
    "# size of the tensor"
   ]
  },
  {
   "cell_type": "code",
   "execution_count": 222,
   "metadata": {
    "ExecuteTime": {
     "end_time": "2021-05-14T08:53:20.508824Z",
     "start_time": "2021-05-14T08:53:20.497707Z"
    }
   },
   "outputs": [
    {
     "data": {
      "text/plain": [
       "2"
      ]
     },
     "execution_count": 222,
     "metadata": {},
     "output_type": "execute_result"
    }
   ],
   "source": [
    "A.ndimension()\n",
    "# number of dimension"
   ]
  },
  {
   "cell_type": "code",
   "execution_count": 223,
   "metadata": {
    "ExecuteTime": {
     "end_time": "2021-05-14T08:54:29.094888Z",
     "start_time": "2021-05-14T08:54:29.087386Z"
    }
   },
   "outputs": [
    {
     "data": {
      "text/plain": [
       "9"
      ]
     },
     "execution_count": 223,
     "metadata": {},
     "output_type": "execute_result"
    }
   ],
   "source": [
    "A.numel()\n",
    "# number of elements"
   ]
  },
  {
   "cell_type": "markdown",
   "metadata": {},
   "source": [
    "## Indexing and Slicing"
   ]
  },
  {
   "cell_type": "code",
   "execution_count": 224,
   "metadata": {
    "ExecuteTime": {
     "end_time": "2021-05-14T09:09:53.100607Z",
     "start_time": "2021-05-14T09:09:53.092625Z"
    }
   },
   "outputs": [],
   "source": [
    "# # INDEXING, SLICING, CHANGING VALUES\n",
    "# A = [\n",
    "#     [ A[0,0], A[0,1], A[0,2] ],\n",
    "#     [ B[1,0], B[1,1], B[1,2] ],\n",
    "#     [ C[2,0], C[2,1], C[2,2] ]\n",
    "# ]\n",
    "\n",
    "# A[0,0] or A[0][0] is the same way to indexing"
   ]
  },
  {
   "cell_type": "code",
   "execution_count": 225,
   "metadata": {
    "ExecuteTime": {
     "end_time": "2021-05-14T09:09:57.199276Z",
     "start_time": "2021-05-14T09:09:57.189272Z"
    }
   },
   "outputs": [
    {
     "data": {
      "text/plain": [
       "tensor([[11, 12, 13],\n",
       "        [21, 22, 23],\n",
       "        [31, 32, 33]])"
      ]
     },
     "execution_count": 225,
     "metadata": {},
     "output_type": "execute_result"
    }
   ],
   "source": [
    "A"
   ]
  },
  {
   "cell_type": "code",
   "execution_count": 227,
   "metadata": {
    "ExecuteTime": {
     "end_time": "2021-05-14T09:10:18.206836Z",
     "start_time": "2021-05-14T09:10:18.188821Z"
    }
   },
   "outputs": [
    {
     "data": {
      "text/plain": [
       "tensor([23, 33])"
      ]
     },
     "execution_count": 227,
     "metadata": {},
     "output_type": "execute_result"
    }
   ],
   "source": [
    "A[1:3, 2]"
   ]
  },
  {
   "cell_type": "code",
   "execution_count": 228,
   "metadata": {
    "ExecuteTime": {
     "end_time": "2021-05-14T09:10:27.381342Z",
     "start_time": "2021-05-14T09:10:27.367805Z"
    }
   },
   "outputs": [
    {
     "data": {
      "text/plain": [
       "tensor([11, 12])"
      ]
     },
     "execution_count": 228,
     "metadata": {},
     "output_type": "execute_result"
    }
   ],
   "source": [
    "A[0, 0:2]"
   ]
  },
  {
   "cell_type": "markdown",
   "metadata": {},
   "source": [
    "## Basic Operation"
   ]
  },
  {
   "cell_type": "code",
   "execution_count": 230,
   "metadata": {
    "ExecuteTime": {
     "end_time": "2021-05-14T09:11:39.994654Z",
     "start_time": "2021-05-14T09:11:39.977132Z"
    }
   },
   "outputs": [
    {
     "data": {
      "text/plain": [
       "tensor([[3, 1],\n",
       "        [1, 3]])"
      ]
     },
     "execution_count": 230,
     "metadata": {},
     "output_type": "execute_result"
    }
   ],
   "source": [
    "X = torch.tensor([[1,0], [0,1]])\n",
    "Y = torch.tensor([[2,1], [1,2]])\n",
    "\n",
    "X+Y"
   ]
  },
  {
   "cell_type": "code",
   "execution_count": 232,
   "metadata": {
    "ExecuteTime": {
     "end_time": "2021-05-14T09:12:28.340730Z",
     "start_time": "2021-05-14T09:12:28.325692Z"
    }
   },
   "outputs": [
    {
     "data": {
      "text/plain": [
       "tensor([[4, 2],\n",
       "        [2, 4]])"
      ]
     },
     "execution_count": 232,
     "metadata": {},
     "output_type": "execute_result"
    }
   ],
   "source": [
    "# multiplying by SCALAR\n",
    "Y = torch.tensor([[2,1], [1,2]])\n",
    "2*Y"
   ]
  },
  {
   "cell_type": "code",
   "execution_count": 233,
   "metadata": {
    "ExecuteTime": {
     "end_time": "2021-05-14T09:13:37.900023Z",
     "start_time": "2021-05-14T09:13:37.881997Z"
    }
   },
   "outputs": [
    {
     "data": {
      "text/plain": [
       "tensor([[2, 0],\n",
       "        [0, 2]])"
      ]
     },
     "execution_count": 233,
     "metadata": {},
     "output_type": "execute_result"
    }
   ],
   "source": [
    "# multiplying of two tensor\n",
    "# hadamard product\n",
    "\n",
    "X = torch.tensor([[1,0], [0,1]])\n",
    "Y = torch.tensor([[2,1], [1,2]])\n",
    "\n",
    "X*Y"
   ]
  },
  {
   "cell_type": "code",
   "execution_count": 237,
   "metadata": {
    "ExecuteTime": {
     "end_time": "2021-05-14T09:17:05.600284Z",
     "start_time": "2021-05-14T09:17:05.584165Z"
    }
   },
   "outputs": [],
   "source": [
    "# multiplying by Matrix Multiplication (mm)\n",
    "# before mm, make sure the number of the columns in matrix A\n",
    "# must be equal to the number of rows in matrix B\n",
    "\n",
    "A = torch.tensor([[0,1,1],\n",
    "                  [1,0,1]])\n",
    "\n",
    "B = torch.tensor([[1,1], \n",
    "                  [1,1], \n",
    "                  [-1,1]])\n",
    "\n",
    "AB = torch.mm(A,B)"
   ]
  },
  {
   "cell_type": "code",
   "execution_count": 238,
   "metadata": {
    "ExecuteTime": {
     "end_time": "2021-05-14T09:17:07.602750Z",
     "start_time": "2021-05-14T09:17:07.586208Z"
    }
   },
   "outputs": [
    {
     "data": {
      "text/plain": [
       "tensor([[0, 2],\n",
       "        [0, 2]])"
      ]
     },
     "execution_count": 238,
     "metadata": {},
     "output_type": "execute_result"
    }
   ],
   "source": [
    "AB"
   ]
  },
  {
   "cell_type": "markdown",
   "metadata": {},
   "source": [
    "## PRACTICE"
   ]
  },
  {
   "cell_type": "code",
   "execution_count": 239,
   "metadata": {
    "ExecuteTime": {
     "end_time": "2021-05-14T09:20:33.382932Z",
     "start_time": "2021-05-14T09:20:33.365422Z"
    }
   },
   "outputs": [],
   "source": [
    "# 1\n",
    "# Convert the following Pandas DataFrame to a tensor\n",
    "\n",
    "df = pd.DataFrame({'A':[11,33,22],\n",
    "                  'B':[3,3,2]})"
   ]
  },
  {
   "cell_type": "code",
   "execution_count": 240,
   "metadata": {
    "ExecuteTime": {
     "end_time": "2021-05-14T09:20:35.166117Z",
     "start_time": "2021-05-14T09:20:35.145595Z"
    }
   },
   "outputs": [
    {
     "data": {
      "text/html": [
       "<div>\n",
       "<style scoped>\n",
       "    .dataframe tbody tr th:only-of-type {\n",
       "        vertical-align: middle;\n",
       "    }\n",
       "\n",
       "    .dataframe tbody tr th {\n",
       "        vertical-align: top;\n",
       "    }\n",
       "\n",
       "    .dataframe thead th {\n",
       "        text-align: right;\n",
       "    }\n",
       "</style>\n",
       "<table border=\"1\" class=\"dataframe\">\n",
       "  <thead>\n",
       "    <tr style=\"text-align: right;\">\n",
       "      <th></th>\n",
       "      <th>A</th>\n",
       "      <th>B</th>\n",
       "    </tr>\n",
       "  </thead>\n",
       "  <tbody>\n",
       "    <tr>\n",
       "      <th>0</th>\n",
       "      <td>11</td>\n",
       "      <td>3</td>\n",
       "    </tr>\n",
       "    <tr>\n",
       "      <th>1</th>\n",
       "      <td>33</td>\n",
       "      <td>3</td>\n",
       "    </tr>\n",
       "    <tr>\n",
       "      <th>2</th>\n",
       "      <td>22</td>\n",
       "      <td>2</td>\n",
       "    </tr>\n",
       "  </tbody>\n",
       "</table>\n",
       "</div>"
      ],
      "text/plain": [
       "    A  B\n",
       "0  11  3\n",
       "1  33  3\n",
       "2  22  2"
      ]
     },
     "execution_count": 240,
     "metadata": {},
     "output_type": "execute_result"
    }
   ],
   "source": [
    "df"
   ]
  },
  {
   "cell_type": "code",
   "execution_count": 246,
   "metadata": {
    "ExecuteTime": {
     "end_time": "2021-05-14T09:22:27.085170Z",
     "start_time": "2021-05-14T09:22:27.069161Z"
    }
   },
   "outputs": [
    {
     "data": {
      "text/plain": [
       "array([[11,  3],\n",
       "       [33,  3],\n",
       "       [22,  2]], dtype=int64)"
      ]
     },
     "execution_count": 246,
     "metadata": {},
     "output_type": "execute_result"
    }
   ],
   "source": [
    "df.to_numpy()"
   ]
  },
  {
   "cell_type": "code",
   "execution_count": 248,
   "metadata": {
    "ExecuteTime": {
     "end_time": "2021-05-14T09:24:05.594489Z",
     "start_time": "2021-05-14T09:24:05.587487Z"
    }
   },
   "outputs": [
    {
     "data": {
      "text/plain": [
       "tensor([[11,  3],\n",
       "        [33,  3],\n",
       "        [22,  2]])"
      ]
     },
     "execution_count": 248,
     "metadata": {},
     "output_type": "execute_result"
    }
   ],
   "source": [
    "torch.tensor(df.values)"
   ]
  },
  {
   "cell_type": "code",
   "execution_count": 242,
   "metadata": {
    "ExecuteTime": {
     "end_time": "2021-05-14T09:21:38.938503Z",
     "start_time": "2021-05-14T09:21:38.931502Z"
    }
   },
   "outputs": [],
   "source": [
    "tens = torch.from_numpy(df.to_numpy())"
   ]
  },
  {
   "cell_type": "code",
   "execution_count": 243,
   "metadata": {
    "ExecuteTime": {
     "end_time": "2021-05-14T09:21:40.878712Z",
     "start_time": "2021-05-14T09:21:40.863985Z"
    }
   },
   "outputs": [
    {
     "data": {
      "text/plain": [
       "tensor([[11,  3],\n",
       "        [33,  3],\n",
       "        [22,  2]])"
      ]
     },
     "execution_count": 243,
     "metadata": {},
     "output_type": "execute_result"
    }
   ],
   "source": [
    "tens"
   ]
  },
  {
   "cell_type": "code",
   "execution_count": 247,
   "metadata": {
    "ExecuteTime": {
     "end_time": "2021-05-14T09:23:25.656297Z",
     "start_time": "2021-05-14T09:23:25.648493Z"
    }
   },
   "outputs": [],
   "source": [
    "# # ALT ANSWER\n",
    "# converted_tensor = torch.tensor(df.values)\n",
    "# print (\"Tensor: \", converted_tensor)"
   ]
  },
  {
   "cell_type": "code",
   "execution_count": 249,
   "metadata": {
    "ExecuteTime": {
     "end_time": "2021-05-14T09:24:41.956356Z",
     "start_time": "2021-05-14T09:24:41.950346Z"
    }
   },
   "outputs": [],
   "source": [
    "#2\n",
    "# Use silce and index to change the values on the matrix tensor_ques\n",
    "# Try to change the values on the second column and the last two rows to 0. Basically, change the values on tensor_ques[1][1] and tensor_ques[2][1] to 0\n",
    "\n",
    "tensor_ques = torch.tensor([[11, 12, 13], [21, 22, 23], [31, 32, 33]])"
   ]
  },
  {
   "cell_type": "code",
   "execution_count": 251,
   "metadata": {
    "ExecuteTime": {
     "end_time": "2021-05-14T09:26:11.555881Z",
     "start_time": "2021-05-14T09:26:11.535843Z"
    }
   },
   "outputs": [],
   "source": [
    "tensor_ques[1:3,1] = 0"
   ]
  },
  {
   "cell_type": "code",
   "execution_count": 252,
   "metadata": {
    "ExecuteTime": {
     "end_time": "2021-05-14T09:26:15.374859Z",
     "start_time": "2021-05-14T09:26:15.357312Z"
    }
   },
   "outputs": [
    {
     "data": {
      "text/plain": [
       "tensor([[11, 12, 13],\n",
       "        [21,  0, 23],\n",
       "        [31,  0, 33]])"
      ]
     },
     "execution_count": 252,
     "metadata": {},
     "output_type": "execute_result"
    }
   ],
   "source": [
    "tensor_ques"
   ]
  },
  {
   "cell_type": "code",
   "execution_count": 253,
   "metadata": {
    "ExecuteTime": {
     "end_time": "2021-05-14T09:29:24.370650Z",
     "start_time": "2021-05-14T09:29:24.361901Z"
    }
   },
   "outputs": [],
   "source": [
    "# 3\n",
    "# Try to create your own two tensors (X and Y) with different sizes, and multiply them.\n",
    "\n",
    "A = torch.tensor([[0, 1, 1], [1, 0, 1]])\n",
    "B = torch.tensor([[1, 1], [1, 1], [-1, 1]])\n",
    "\n",
    "AB = torch.mm(A,B)"
   ]
  },
  {
   "cell_type": "code",
   "execution_count": 254,
   "metadata": {
    "ExecuteTime": {
     "end_time": "2021-05-14T09:29:25.805454Z",
     "start_time": "2021-05-14T09:29:25.781449Z"
    }
   },
   "outputs": [
    {
     "data": {
      "text/plain": [
       "tensor([[0, 2],\n",
       "        [0, 2]])"
      ]
     },
     "execution_count": 254,
     "metadata": {},
     "output_type": "execute_result"
    }
   ],
   "source": [
    "AB"
   ]
  },
  {
   "cell_type": "code",
   "execution_count": 255,
   "metadata": {
    "ExecuteTime": {
     "end_time": "2021-05-14T09:29:57.982371Z",
     "start_time": "2021-05-14T09:29:57.935060Z"
    }
   },
   "outputs": [
    {
     "ename": "RuntimeError",
     "evalue": "The size of tensor a (2) must match the size of tensor b (3) at non-singleton dimension 1",
     "output_type": "error",
     "traceback": [
      "\u001b[1;31m---------------------------------------------------------------------------\u001b[0m",
      "\u001b[1;31mRuntimeError\u001b[0m                              Traceback (most recent call last)",
      "\u001b[1;32m<ipython-input-255-b31052cedd02>\u001b[0m in \u001b[0;36m<module>\u001b[1;34m\u001b[0m\n\u001b[0;32m      2\u001b[0m \u001b[0mY\u001b[0m \u001b[1;33m=\u001b[0m \u001b[0mtorch\u001b[0m\u001b[1;33m.\u001b[0m\u001b[0mtensor\u001b[0m\u001b[1;33m(\u001b[0m\u001b[1;33m[\u001b[0m\u001b[1;33m[\u001b[0m\u001b[1;33m-\u001b[0m\u001b[1;36m1\u001b[0m\u001b[1;33m,\u001b[0m \u001b[1;33m-\u001b[0m\u001b[1;36m2\u001b[0m\u001b[1;33m,\u001b[0m \u001b[1;36m0\u001b[0m\u001b[1;33m]\u001b[0m\u001b[1;33m,\u001b[0m \u001b[1;33m[\u001b[0m\u001b[1;36m2\u001b[0m\u001b[1;33m,\u001b[0m \u001b[1;36m1\u001b[0m\u001b[1;33m,\u001b[0m \u001b[1;36m2\u001b[0m\u001b[1;33m]\u001b[0m\u001b[1;33m]\u001b[0m\u001b[1;33m)\u001b[0m\u001b[1;33m\u001b[0m\u001b[1;33m\u001b[0m\u001b[0m\n\u001b[0;32m      3\u001b[0m \u001b[1;33m\u001b[0m\u001b[0m\n\u001b[1;32m----> 4\u001b[1;33m \u001b[0mX\u001b[0m\u001b[1;33m*\u001b[0m\u001b[0mY\u001b[0m\u001b[1;33m\u001b[0m\u001b[1;33m\u001b[0m\u001b[0m\n\u001b[0m",
      "\u001b[1;31mRuntimeError\u001b[0m: The size of tensor a (2) must match the size of tensor b (3) at non-singleton dimension 1"
     ]
    }
   ],
   "source": [
    "X = torch.tensor([[0, 1], [1, 2]])\n",
    "Y = torch.tensor([[-1, -2, 0], [2, 1, 2]])\n",
    "\n",
    "X*Y\n",
    "# doesn't match the size of hadamard product. should use 'mm'"
   ]
  },
  {
   "cell_type": "code",
   "execution_count": 256,
   "metadata": {
    "ExecuteTime": {
     "end_time": "2021-05-14T09:30:35.051827Z",
     "start_time": "2021-05-14T09:30:35.034614Z"
    }
   },
   "outputs": [
    {
     "data": {
      "text/plain": [
       "tensor([[2, 1, 2],\n",
       "        [3, 0, 4]])"
      ]
     },
     "execution_count": 256,
     "metadata": {},
     "output_type": "execute_result"
    }
   ],
   "source": [
    "torch.mm(X,Y)"
   ]
  },
  {
   "cell_type": "code",
   "execution_count": 258,
   "metadata": {
    "ExecuteTime": {
     "end_time": "2021-05-14T09:31:21.822468Z",
     "start_time": "2021-05-14T09:31:21.800656Z"
    }
   },
   "outputs": [
    {
     "data": {
      "text/plain": [
       "tensor([[2, 1, 2],\n",
       "        [3, 0, 4]])"
      ]
     },
     "execution_count": 258,
     "metadata": {},
     "output_type": "execute_result"
    }
   ],
   "source": [
    "np.matmul(X,Y)"
   ]
  },
  {
   "cell_type": "markdown",
   "metadata": {},
   "source": [
    "## QUIZ"
   ]
  },
  {
   "cell_type": "code",
   "execution_count": 259,
   "metadata": {
    "ExecuteTime": {
     "end_time": "2021-05-14T09:32:57.844318Z",
     "start_time": "2021-05-14T09:32:57.828107Z"
    }
   },
   "outputs": [],
   "source": [
    "a=torch.tensor([[0,1,1],[1,0,1]])"
   ]
  },
  {
   "cell_type": "code",
   "execution_count": 260,
   "metadata": {
    "ExecuteTime": {
     "end_time": "2021-05-14T09:33:01.693228Z",
     "start_time": "2021-05-14T09:33:01.662207Z"
    }
   },
   "outputs": [
    {
     "data": {
      "text/plain": [
       "torch.Size([2, 3])"
      ]
     },
     "execution_count": 260,
     "metadata": {},
     "output_type": "execute_result"
    }
   ],
   "source": [
    "a.size()"
   ]
  },
  {
   "cell_type": "code",
   "execution_count": 261,
   "metadata": {
    "ExecuteTime": {
     "end_time": "2021-05-14T09:33:13.512372Z",
     "start_time": "2021-05-14T09:33:13.493397Z"
    }
   },
   "outputs": [
    {
     "data": {
      "text/plain": [
       "2"
      ]
     },
     "execution_count": 261,
     "metadata": {},
     "output_type": "execute_result"
    }
   ],
   "source": [
    "a.ndimension()"
   ]
  },
  {
   "cell_type": "code",
   "execution_count": 262,
   "metadata": {
    "ExecuteTime": {
     "end_time": "2021-05-14T09:34:08.292968Z",
     "start_time": "2021-05-14T09:34:08.287445Z"
    }
   },
   "outputs": [],
   "source": [
    "A = torch.tensor([[0, 1, 1], [1, 0, 1]])\n",
    "B = torch.tensor([[1, 1], [1, 1], [-1, 1]])\n",
    "A_times_B = torch.mm(A,B)"
   ]
  },
  {
   "cell_type": "code",
   "execution_count": 263,
   "metadata": {
    "ExecuteTime": {
     "end_time": "2021-05-14T09:34:16.959477Z",
     "start_time": "2021-05-14T09:34:16.934442Z"
    }
   },
   "outputs": [
    {
     "data": {
      "text/plain": [
       "tensor([[0, 2],\n",
       "        [0, 2]])"
      ]
     },
     "execution_count": 263,
     "metadata": {},
     "output_type": "execute_result"
    }
   ],
   "source": [
    "A_times_B"
   ]
  },
  {
   "cell_type": "code",
   "execution_count": null,
   "metadata": {},
   "outputs": [],
   "source": []
  }
 ],
 "metadata": {
  "kernelspec": {
   "display_name": "Python 3",
   "language": "python",
   "name": "python3"
  },
  "language_info": {
   "codemirror_mode": {
    "name": "ipython",
    "version": 3
   },
   "file_extension": ".py",
   "mimetype": "text/x-python",
   "name": "python",
   "nbconvert_exporter": "python",
   "pygments_lexer": "ipython3",
   "version": "3.8.5"
  },
  "toc": {
   "base_numbering": 1,
   "nav_menu": {},
   "number_sections": true,
   "sideBar": true,
   "skip_h1_title": false,
   "title_cell": "Table of Contents",
   "title_sidebar": "Contents",
   "toc_cell": false,
   "toc_position": {},
   "toc_section_display": true,
   "toc_window_display": true
  },
  "varInspector": {
   "cols": {
    "lenName": 16,
    "lenType": 16,
    "lenVar": 40
   },
   "kernels_config": {
    "python": {
     "delete_cmd_postfix": "",
     "delete_cmd_prefix": "del ",
     "library": "var_list.py",
     "varRefreshCmd": "print(var_dic_list())"
    },
    "r": {
     "delete_cmd_postfix": ") ",
     "delete_cmd_prefix": "rm(",
     "library": "var_list.r",
     "varRefreshCmd": "cat(var_dic_list()) "
    }
   },
   "types_to_exclude": [
    "module",
    "function",
    "builtin_function_or_method",
    "instance",
    "_Feature"
   ],
   "window_display": false
  }
 },
 "nbformat": 4,
 "nbformat_minor": 4
}
